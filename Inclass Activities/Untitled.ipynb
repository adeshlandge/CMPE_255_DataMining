{
 "cells": [
  {
   "cell_type": "code",
   "execution_count": 8,
   "id": "29b8ebd9",
   "metadata": {},
   "outputs": [
    {
     "name": "stdout",
     "output_type": "stream",
     "text": [
      "[ 1.   2.1  3.   4.5  5.   5.6  6.2  6.5  7.1  9.1 10.  11.  13.5 17.\n",
      " 19. ]\n",
      "[-1]\n"
     ]
    }
   ],
   "source": [
    "\n",
    "\n",
    "%matplotlib inline \n",
    "import matplotlib.pyplot as plt \n",
    "import numpy as np\n",
    "from sklearn.cluster import DBSCAN\n",
    "X = np.array([1, 2.1, 3, 4.5, 5, 5.6, 6.2, 6.5, 7.1, 9.1, 10, 11, 13.5, 17, 19 ]);\n",
    "print(X)\n",
    "\n",
    "dbscan = DBSCAN(eps = 3, min_samples = 2)\n",
    "model = dbscan.fit(X.reshape(1, -1))\n",
    "print(model.labels_)"
   ]
  },
  {
   "cell_type": "code",
   "execution_count": null,
   "id": "d37565bc",
   "metadata": {},
   "outputs": [],
   "source": []
  }
 ],
 "metadata": {
  "kernelspec": {
   "display_name": "Python 3 (ipykernel)",
   "language": "python",
   "name": "python3"
  },
  "language_info": {
   "codemirror_mode": {
    "name": "ipython",
    "version": 3
   },
   "file_extension": ".py",
   "mimetype": "text/x-python",
   "name": "python",
   "nbconvert_exporter": "python",
   "pygments_lexer": "ipython3",
   "version": "3.10.6"
  }
 },
 "nbformat": 4,
 "nbformat_minor": 5
}
